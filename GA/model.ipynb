{
 "cells": [
  {
   "cell_type": "code",
   "execution_count": null,
   "metadata": {},
   "outputs": [],
   "source": [
    "import fiona\n",
    "import os\n",
    "import osmnx as ox"
   ]
  },
  {
   "cell_type": "markdown",
   "metadata": {},
   "source": [
    "## Loading the districting planning area"
   ]
  },
  {
   "cell_type": "code",
   "execution_count": null,
   "metadata": {},
   "outputs": [],
   "source": [
    "# Collect geometries and properties in lists\n",
    "geometries = []\n",
    "properties_list = []\n",
    "\n",
    "with fiona.open('district_and_planning_area.geojson', 'r') as source:\n",
    "    for feature in source:\n",
    "        geometries.append(shape(feature['geometry']))\n",
    "        properties_list.append(feature['properties'])\n",
    "\n",
    "# Create a GeoDataFrame\n",
    "gdf_districts = gpd.GeoDataFrame(properties_list, geometry=geometries)\n",
    "\n",
    "# Plot centers of districts\n",
    "gdf_districts['centroid'] = gdf_districts['geometry'].centroid\n",
    "\n",
    "\n",
    "area_exclusion = [\"Western Islands\", \"North-Eastern Islands\"]\n",
    "gdf_districts_filtered = gdf_districts[~gdf_districts[\"planning_area\"].isin(area_exclusion)]"
   ]
  },
  {
   "cell_type": "code",
   "execution_count": null,
   "metadata": {},
   "outputs": [],
   "source": []
  },
  {
   "cell_type": "code",
   "execution_count": null,
   "metadata": {},
   "outputs": [],
   "source": [
    "# Read graph from the saved file\n",
    "G = ox.load_graphml(\"singapore_road_network.graphml\")"
   ]
  },
  {
   "cell_type": "code",
   "execution_count": null,
   "metadata": {},
   "outputs": [],
   "source": [
    "# Get the nodes as a list\n",
    "nodes = list(G.nodes(data=True))\n",
    "nodes[0:2]\n",
    "nodes.sort(key = lambda x: x[0])\n",
    "import numpy as np\n",
    "# Store all the x and y coordinates of the centroids\n",
    "centroids = np.array([(point.x, point.y) for point in gdf_districts_filtered['centroid']])\n",
    "# nodes_array = np.array([(data['x'], data['y']) for _, data in nodes])\n"
   ]
  },
  {
   "cell_type": "code",
   "execution_count": null,
   "metadata": {},
   "outputs": [],
   "source": []
  },
  {
   "cell_type": "code",
   "execution_count": null,
   "metadata": {},
   "outputs": [],
   "source": []
  },
  {
   "cell_type": "markdown",
   "metadata": {},
   "source": [
    "## Inserting the incinerations nodes"
   ]
  },
  {
   "cell_type": "code",
   "execution_count": null,
   "metadata": {},
   "outputs": [],
   "source": [
    "# Finding the depot node\n",
    "depot_locations = {\"TWTE\": (1.3001724, 103.6236303),\n",
    "                   \"KSTP\": (1.2976918, 103.6209247),\n",
    "                   \"TSIP\": (1.2962427, 103.620556),\n",
    "                   \"SWTE\": (1.4632878, 103.794695)}\n",
    "\n",
    "# Find the nearest node to the depot\n",
    "depot_nodes_index = [ox.distance.nearest_nodes(G, X=location[1], Y=location[0]) for location in depot_locations.values()]\n",
    "# Print the depot nodes \n",
    "for node_index in depot_nodes_index:\n",
    "    # Get the node data\n",
    "    node_data = G.nodes[node_index]\n",
    "    print(node_data)"
   ]
  }
 ],
 "metadata": {
  "kernelspec": {
   "display_name": "ox",
   "language": "python",
   "name": "python3"
  },
  "language_info": {
   "name": "python",
   "version": "3.12.6"
  }
 },
 "nbformat": 4,
 "nbformat_minor": 2
}
