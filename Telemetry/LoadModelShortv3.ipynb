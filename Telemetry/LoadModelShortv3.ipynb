{
 "cells": [
  {
   "cell_type": "code",
   "execution_count": 72,
   "metadata": {},
   "outputs": [],
   "source": [
    "import pandas as pd\n",
    "import numpy as np\n",
    "from sklearn.ensemble import RandomForestClassifier\n",
    "from sklearn.linear_model import LogisticRegression\n",
    "from sklearn.preprocessing import LabelEncoder, OneHotEncoder\n",
    "import matplotlib.pyplot as plt\n",
    "from sklearn.preprocessing import MinMaxScaler\n",
    "from sklearn.model_selection import train_test_split\n",
    "from sklearn.model_selection import GridSearchCV\n",
    "from sklearn.metrics import accuracy_score,classification_report,confusion_matrix"
   ]
  },
  {
   "cell_type": "code",
   "execution_count": 76,
   "metadata": {},
   "outputs": [],
   "source": [
    "#Reads vehicle conditions that are stored in app_data_input.csv\n",
    "X_test = pd.read_csv(\"vehicle_conditions.csv\",index_col=0)"
   ]
  },
  {
   "cell_type": "code",
   "execution_count": 77,
   "metadata": {},
   "outputs": [],
   "source": [
    "#Preprocess the data such that they can be used by the model. \n",
    "\n",
    "def preprocess_data(df):\n",
    "    \n",
    "    #convert last service date and warranty expiry date into date time\n",
    "    df[\"Last_Service_Date\"] = pd.to_datetime(df[\"Last_Service_Date\"],format=\"%d/%m/%Y\")\n",
    "    df[\"Warranty_Expiry_Date\"] = pd.to_datetime(df[\"Warranty_Expiry_Date\"],format=\"%d/%m/%Y\")\n",
    "\n",
    "    #Preprocess data such that it is express as warranty days remaining/days since last service. \n",
    "    df[\"Days_since_last_service\"] = (pd.Timestamp.today() - df[\"Last_Service_Date\"]).dt.days\n",
    "    df[\"Warranty Days remaining\"] = (df[\"Warranty_Expiry_Date\"] - pd.Timestamp.today()).dt.days\n",
    "\n",
    "    #Drop original last_service_date and warranty_expiry date cols\n",
    "    #Drop Vehicle Model as all truck\n",
    "    df = df.drop(columns = ['Last_Service_Date','Warranty_Expiry_Date','Vehicle_Model','Fuel_Type'], axis = 1)\n",
    "\n",
    "\n",
    "    #Select categorical columns\n",
    "    categorical_cols = df.select_dtypes(include=['object']).columns\n",
    "    numerical_cols = df.select_dtypes(include = ['int','float']).columns\n",
    "\n",
    "\n",
    "    oneHotEncoder = OneHotEncoder()\n",
    "\n",
    "    #Convert ordinal data into numerical categories\n",
    "    # pd.Categorical(df[\"Tire_Condition\"],categories=[\"Worn Out\",\"Good\",\"New\"],ordered=True) adds ordering to data Worn Out < Good < New but does not convert into binary\n",
    "    df[\"Tire_Condition\"] = pd.Categorical(df[\"Tire_Condition\"],categories=[\"Worn Out\",\"Good\",\"New\"],ordered=True).codes\n",
    "    df[\"Brake_Condition\"] = pd.Categorical(df[\"Brake_Condition\"],categories=[\"Worn Out\",\"Good\",\"New\"],ordered=True).codes\n",
    "    # X_train[\"Battery_Status\"] = pd.Categorical(X_train[\"Battery_Status\"],categories=[\"Weak\",\"Good\",\"New\"],ordered=True).codes\n",
    "    df[\"Owner_Type\"] = pd.Categorical(df[\"Owner_Type\"],categories=[\"First\",\"Second\",\"Third\"],ordered=True).codes\n",
    "    df[\"Maintenance_History\"] = pd.Categorical(df[\"Maintenance_History\"],categories=[\"Poor\",\"Average\",\"Good\"],ordered=True).codes\n",
    "\n",
    "\n",
    "    # \"Battery_Status\"\n",
    "    labelEncodedCols = [\"Tire_Condition\", \"Brake_Condition\",\"Owner_Type\",\"Maintenance_History\"]\n",
    "\n",
    "    #Essentially Transmission type and fuel type.\n",
    "    oneHotEncodedCols = list(set(categorical_cols) - set(labelEncodedCols))\n",
    "    df = pd.get_dummies(df,columns=oneHotEncodedCols,drop_first=True)\n",
    "\n",
    "\n",
    "    numerical_df = df[numerical_cols]\n",
    "    numerical_data = df[numerical_cols]\n",
    "\n",
    "\n",
    "    df_cols = df.columns\n",
    "\n",
    "    df = pd.DataFrame(data=df,columns=df_cols)\n",
    "\n",
    "    return df\n",
    "\n",
    "\n",
    "\n",
    "X_test = preprocess_data(X_test)\n",
    "\n"
   ]
  },
  {
   "cell_type": "code",
   "execution_count": 78,
   "metadata": {},
   "outputs": [],
   "source": [
    "#Load pre-trained model.\n",
    "import pickle\n",
    "with open('rf_model.pkl', 'rb') as f:\n",
    "    loaded_model = pickle.load(f)\n"
   ]
  },
  {
   "cell_type": "code",
   "execution_count": 79,
   "metadata": {},
   "outputs": [],
   "source": [
    "#Predicts whether maintenance is needed for vehicle. \n",
    "y_pred_rf = loaded_model.predict(X_test)\n"
   ]
  },
  {
   "cell_type": "code",
   "execution_count": 80,
   "metadata": {},
   "outputs": [],
   "source": [
    "#add truck IDS to vehicle. \n",
    "truck_IDs = X_test.index\n",
    "X_test.insert(0, 'Truck_ID', truck_IDs)\n",
    "#Add predictions to data\n",
    "X_test[\"Need_Maintenance\"] = y_pred_rf\n"
   ]
  },
  {
   "cell_type": "code",
   "execution_count": 81,
   "metadata": {},
   "outputs": [],
   "source": [
    "X_test.to_csv(\"truck_chat_data.csv\")"
   ]
  },
  {
   "cell_type": "code",
   "execution_count": null,
   "metadata": {},
   "outputs": [],
   "source": []
  }
 ],
 "metadata": {
  "kernelspec": {
   "display_name": "GAenv",
   "language": "python",
   "name": "python3"
  },
  "language_info": {
   "codemirror_mode": {
    "name": "ipython",
    "version": 3
   },
   "file_extension": ".py",
   "mimetype": "text/x-python",
   "name": "python",
   "nbconvert_exporter": "python",
   "pygments_lexer": "ipython3",
   "version": "3.9.20"
  }
 },
 "nbformat": 4,
 "nbformat_minor": 2
}
